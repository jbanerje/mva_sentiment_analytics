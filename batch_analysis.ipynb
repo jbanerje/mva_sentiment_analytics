{
 "cells": [
  {
   "cell_type": "code",
   "execution_count": 28,
   "metadata": {},
   "outputs": [],
   "source": [
    "import spacy\n",
    "nlp = spacy.load(\"en_core_web_md\")\n",
    "\n",
    "# Core Pkgs\n",
    "import streamlit as st\n",
    "from collections import Counter\n",
    "\n",
    "# EDA Pkgs\n",
    "import pandas as pd \n",
    "import numpy as np \n",
    "from datetime import datetime\n",
    "\n",
    "# Vizualization Package \n",
    "import matplotlib.pyplot as plt\n",
    "import seaborn as sns\n",
    "from wordcloud import WordCloud, ImageColorGenerator, STOPWORDS\n",
    "from PIL import Image\n",
    "\n",
    "# In-built Class\n",
    "from get_sentiments import *\n",
    "from get_emotions   import *\n",
    "from data_pre_process import *\n",
    "from utils import *"
   ]
  },
  {
   "cell_type": "code",
   "execution_count": 55,
   "metadata": {},
   "outputs": [
    {
     "data": {
      "text/plain": [
       "(2429, 6)"
      ]
     },
     "metadata": {},
     "output_type": "display_data"
    },
    {
     "data": {
      "text/plain": [
       "Index(['Review_Date', 'Author_Name', 'Vehicle_Title', 'Review_Title', 'Review',\n",
       "       'Rating'],\n",
       "      dtype='object')"
      ]
     },
     "metadata": {},
     "output_type": "display_data"
    },
    {
     "data": {
      "text/html": [
       "<div>\n",
       "<style scoped>\n",
       "    .dataframe tbody tr th:only-of-type {\n",
       "        vertical-align: middle;\n",
       "    }\n",
       "\n",
       "    .dataframe tbody tr th {\n",
       "        vertical-align: top;\n",
       "    }\n",
       "\n",
       "    .dataframe thead th {\n",
       "        text-align: right;\n",
       "    }\n",
       "</style>\n",
       "<table border=\"1\" class=\"dataframe\">\n",
       "  <thead>\n",
       "    <tr style=\"text-align: right;\">\n",
       "      <th></th>\n",
       "      <th>Review_Date</th>\n",
       "      <th>Author_Name</th>\n",
       "      <th>Vehicle_Title</th>\n",
       "      <th>Review_Title</th>\n",
       "      <th>Review</th>\n",
       "      <th>Rating</th>\n",
       "    </tr>\n",
       "  </thead>\n",
       "  <tbody>\n",
       "    <tr>\n",
       "      <th>0</th>\n",
       "      <td>on 08/28/18 13:31 PM (PDT)</td>\n",
       "      <td>Chris</td>\n",
       "      <td>2015 Porsche Macan SUV Turbo 4dr SUV AWD (3.6L...</td>\n",
       "      <td>Porsche Macan is a Beast</td>\n",
       "      <td>I owned a Porsche Cayenne for two years and e...</td>\n",
       "      <td>5.0</td>\n",
       "    </tr>\n",
       "    <tr>\n",
       "      <th>1</th>\n",
       "      <td>on 06/17/18 17:30 PM (PDT)</td>\n",
       "      <td>Phil Fair</td>\n",
       "      <td>2015 Porsche Macan SUV S 4dr SUV AWD (3.0L 6cy...</td>\n",
       "      <td>Outstanding ride!</td>\n",
       "      <td>Love my 2015 Porsche Macan S SUV, but please ...</td>\n",
       "      <td>5.0</td>\n",
       "    </tr>\n",
       "    <tr>\n",
       "      <th>2</th>\n",
       "      <td>on 05/16/18 11:27 AM (PDT)</td>\n",
       "      <td>Steven</td>\n",
       "      <td>2015 Porsche Macan SUV S 4dr SUV AWD (3.0L 6cy...</td>\n",
       "      <td>Pretty and comfy</td>\n",
       "      <td>Great looking vehicle with the most comfortab...</td>\n",
       "      <td>4.0</td>\n",
       "    </tr>\n",
       "    <tr>\n",
       "      <th>3</th>\n",
       "      <td>on 05/15/18 19:22 PM (PDT)</td>\n",
       "      <td>Zw</td>\n",
       "      <td>2015 Porsche Macan SUV S 4dr SUV AWD (3.0L 6cy...</td>\n",
       "      <td>Once you've gone Porsche, it's hard to go back</td>\n",
       "      <td>Crossover that drives like a Porsche- I outgr...</td>\n",
       "      <td>5.0</td>\n",
       "    </tr>\n",
       "    <tr>\n",
       "      <th>4</th>\n",
       "      <td>on 11/11/17 07:20 AM (PST)</td>\n",
       "      <td>george toccalino</td>\n",
       "      <td>2015 Porsche Macan SUV Turbo 4dr SUV AWD (3.6L...</td>\n",
       "      <td>The 911 SUV</td>\n",
       "      <td>Fun to drive SUV:very close to handling like ...</td>\n",
       "      <td>5.0</td>\n",
       "    </tr>\n",
       "  </tbody>\n",
       "</table>\n",
       "</div>"
      ],
      "text/plain": [
       "                   Review_Date        Author_Name  \\\n",
       "0   on 08/28/18 13:31 PM (PDT)             Chris    \n",
       "1   on 06/17/18 17:30 PM (PDT)         Phil Fair    \n",
       "2   on 05/16/18 11:27 AM (PDT)            Steven    \n",
       "3   on 05/15/18 19:22 PM (PDT)                Zw    \n",
       "4   on 11/11/17 07:20 AM (PST)  george toccalino    \n",
       "\n",
       "                                       Vehicle_Title  \\\n",
       "0  2015 Porsche Macan SUV Turbo 4dr SUV AWD (3.6L...   \n",
       "1  2015 Porsche Macan SUV S 4dr SUV AWD (3.0L 6cy...   \n",
       "2  2015 Porsche Macan SUV S 4dr SUV AWD (3.0L 6cy...   \n",
       "3  2015 Porsche Macan SUV S 4dr SUV AWD (3.0L 6cy...   \n",
       "4  2015 Porsche Macan SUV Turbo 4dr SUV AWD (3.6L...   \n",
       "\n",
       "                                     Review_Title  \\\n",
       "0                        Porsche Macan is a Beast   \n",
       "1                               Outstanding ride!   \n",
       "2                                Pretty and comfy   \n",
       "3  Once you've gone Porsche, it's hard to go back   \n",
       "4                                     The 911 SUV   \n",
       "\n",
       "                                              Review  Rating  \n",
       "0   I owned a Porsche Cayenne for two years and e...     5.0  \n",
       "1   Love my 2015 Porsche Macan S SUV, but please ...     5.0  \n",
       "2   Great looking vehicle with the most comfortab...     4.0  \n",
       "3   Crossover that drives like a Porsche- I outgr...     5.0  \n",
       "4   Fun to drive SUV:very close to handling like ...     5.0  "
      ]
     },
     "execution_count": 55,
     "metadata": {},
     "output_type": "execute_result"
    }
   ],
   "source": [
    "review_df = pd.read_csv('./data/Scraped_Car_Review_porsche.csv')\n",
    "display(review_df.shape)\n",
    "display(review_df.columns)\n",
    "review_df.head()"
   ]
  },
  {
   "cell_type": "code",
   "execution_count": 56,
   "metadata": {},
   "outputs": [
    {
     "data": {
      "text/html": [
       "<div>\n",
       "<style scoped>\n",
       "    .dataframe tbody tr th:only-of-type {\n",
       "        vertical-align: middle;\n",
       "    }\n",
       "\n",
       "    .dataframe tbody tr th {\n",
       "        vertical-align: top;\n",
       "    }\n",
       "\n",
       "    .dataframe thead th {\n",
       "        text-align: right;\n",
       "    }\n",
       "</style>\n",
       "<table border=\"1\" class=\"dataframe\">\n",
       "  <thead>\n",
       "    <tr style=\"text-align: right;\">\n",
       "      <th></th>\n",
       "      <th>Vehicle_Title</th>\n",
       "      <th>Review_Title</th>\n",
       "      <th>Review</th>\n",
       "      <th>Rating</th>\n",
       "    </tr>\n",
       "  </thead>\n",
       "  <tbody>\n",
       "    <tr>\n",
       "      <th>0</th>\n",
       "      <td>2015 Porsche Macan SUV Turbo 4dr SUV AWD (3.6L...</td>\n",
       "      <td>Porsche Macan is a Beast</td>\n",
       "      <td>I owned a Porsche Cayenne for two years and e...</td>\n",
       "      <td>5.0</td>\n",
       "    </tr>\n",
       "    <tr>\n",
       "      <th>1</th>\n",
       "      <td>2015 Porsche Macan SUV S 4dr SUV AWD (3.0L 6cy...</td>\n",
       "      <td>Outstanding ride!</td>\n",
       "      <td>Love my 2015 Porsche Macan S SUV, but please ...</td>\n",
       "      <td>5.0</td>\n",
       "    </tr>\n",
       "    <tr>\n",
       "      <th>2</th>\n",
       "      <td>2015 Porsche Macan SUV S 4dr SUV AWD (3.0L 6cy...</td>\n",
       "      <td>Pretty and comfy</td>\n",
       "      <td>Great looking vehicle with the most comfortab...</td>\n",
       "      <td>4.0</td>\n",
       "    </tr>\n",
       "    <tr>\n",
       "      <th>3</th>\n",
       "      <td>2015 Porsche Macan SUV S 4dr SUV AWD (3.0L 6cy...</td>\n",
       "      <td>Once you've gone Porsche, it's hard to go back</td>\n",
       "      <td>Crossover that drives like a Porsche- I outgr...</td>\n",
       "      <td>5.0</td>\n",
       "    </tr>\n",
       "    <tr>\n",
       "      <th>4</th>\n",
       "      <td>2015 Porsche Macan SUV Turbo 4dr SUV AWD (3.6L...</td>\n",
       "      <td>The 911 SUV</td>\n",
       "      <td>Fun to drive SUV:very close to handling like ...</td>\n",
       "      <td>5.0</td>\n",
       "    </tr>\n",
       "  </tbody>\n",
       "</table>\n",
       "</div>"
      ],
      "text/plain": [
       "                                       Vehicle_Title  \\\n",
       "0  2015 Porsche Macan SUV Turbo 4dr SUV AWD (3.6L...   \n",
       "1  2015 Porsche Macan SUV S 4dr SUV AWD (3.0L 6cy...   \n",
       "2  2015 Porsche Macan SUV S 4dr SUV AWD (3.0L 6cy...   \n",
       "3  2015 Porsche Macan SUV S 4dr SUV AWD (3.0L 6cy...   \n",
       "4  2015 Porsche Macan SUV Turbo 4dr SUV AWD (3.6L...   \n",
       "\n",
       "                                     Review_Title  \\\n",
       "0                        Porsche Macan is a Beast   \n",
       "1                               Outstanding ride!   \n",
       "2                                Pretty and comfy   \n",
       "3  Once you've gone Porsche, it's hard to go back   \n",
       "4                                     The 911 SUV   \n",
       "\n",
       "                                              Review  Rating  \n",
       "0   I owned a Porsche Cayenne for two years and e...     5.0  \n",
       "1   Love my 2015 Porsche Macan S SUV, but please ...     5.0  \n",
       "2   Great looking vehicle with the most comfortab...     4.0  \n",
       "3   Crossover that drives like a Porsche- I outgr...     5.0  \n",
       "4   Fun to drive SUV:very close to handling like ...     5.0  "
      ]
     },
     "execution_count": 56,
     "metadata": {},
     "output_type": "execute_result"
    }
   ],
   "source": [
    "review_df = review_df[['Vehicle_Title', 'Review_Title', 'Review', 'Rating']]\n",
    "review_df.head()"
   ]
  },
  {
   "cell_type": "code",
   "execution_count": 22,
   "metadata": {},
   "outputs": [
    {
     "data": {
      "text/plain": [
       "Vehicle_Title    645\n",
       "Review_Title     645\n",
       "Review           645\n",
       "Rating           802\n",
       "dtype: int64"
      ]
     },
     "execution_count": 22,
     "metadata": {},
     "output_type": "execute_result"
    }
   ],
   "source": [
    "df.isna().sum()"
   ]
  },
  {
   "cell_type": "code",
   "execution_count": 23,
   "metadata": {},
   "outputs": [],
   "source": [
    "df = df.dropna()"
   ]
  },
  {
   "cell_type": "code",
   "execution_count": 43,
   "metadata": {},
   "outputs": [],
   "source": [
    "df['Rating'] = np.round(df['Rating'], 0)\n",
    "df['Rating'] = df['Rating'].astype('int')"
   ]
  },
  {
   "cell_type": "code",
   "execution_count": 44,
   "metadata": {},
   "outputs": [
    {
     "data": {
      "image/png": "[encoded data removed]",
      "text/plain": [
       "<Figure size 432x288 with 1 Axes>"
      ]
     },
     "metadata": {
      "needs_background": "light"
     },
     "output_type": "display_data"
    }
   ],
   "source": [
    "ax = sns.countplot(x=\"Rating\", data=df)"
   ]
  },
  {
   "cell_type": "code",
   "execution_count": 53,
   "metadata": {},
   "outputs": [
    {
     "data": {
      "text/plain": [
       "5    1269\n",
       "4     264\n",
       "3      59\n",
       "2      24\n",
       "1      11\n",
       "Name: Rating, dtype: int64"
      ]
     },
     "execution_count": 53,
     "metadata": {},
     "output_type": "execute_result"
    }
   ],
   "source": [
    "df['Rating'].value_counts()"
   ]
  },
  {
   "cell_type": "code",
   "execution_count": 45,
   "metadata": {},
   "outputs": [],
   "source": [
    "def get_vehicle_name(full_veh_description):\n",
    "    veh_desc_list = full_veh_description.split(' ')\n",
    "    return ' '.join(veh_desc_list[0:4])"
   ]
  },
  {
   "cell_type": "code",
   "execution_count": 46,
   "metadata": {},
   "outputs": [],
   "source": [
    "df['Vehicle_Name'] = df['Vehicle_Title'].apply(lambda x:get_vehicle_name(x))"
   ]
  },
  {
   "cell_type": "code",
   "execution_count": 47,
   "metadata": {},
   "outputs": [
    {
     "data": {
      "text/html": [
       "<div>\n",
       "<style scoped>\n",
       "    .dataframe tbody tr th:only-of-type {\n",
       "        vertical-align: middle;\n",
       "    }\n",
       "\n",
       "    .dataframe tbody tr th {\n",
       "        vertical-align: top;\n",
       "    }\n",
       "\n",
       "    .dataframe thead th {\n",
       "        text-align: right;\n",
       "    }\n",
       "</style>\n",
       "<table border=\"1\" class=\"dataframe\">\n",
       "  <thead>\n",
       "    <tr style=\"text-align: right;\">\n",
       "      <th></th>\n",
       "      <th>Vehicle_Title</th>\n",
       "      <th>Review_Title</th>\n",
       "      <th>Review</th>\n",
       "      <th>Rating</th>\n",
       "      <th>Vehicle_Name</th>\n",
       "    </tr>\n",
       "  </thead>\n",
       "  <tbody>\n",
       "    <tr>\n",
       "      <th>0</th>\n",
       "      <td>2015 Porsche Macan SUV Turbo 4dr SUV AWD (3.6L...</td>\n",
       "      <td>Porsche Macan is a Beast</td>\n",
       "      <td>I owned a Porsche Cayenne for two years and e...</td>\n",
       "      <td>5</td>\n",
       "      <td>2015 Porsche Macan SUV</td>\n",
       "    </tr>\n",
       "    <tr>\n",
       "      <th>1</th>\n",
       "      <td>2015 Porsche Macan SUV S 4dr SUV AWD (3.0L 6cy...</td>\n",
       "      <td>Outstanding ride!</td>\n",
       "      <td>Love my 2015 Porsche Macan S SUV, but please ...</td>\n",
       "      <td>5</td>\n",
       "      <td>2015 Porsche Macan SUV</td>\n",
       "    </tr>\n",
       "    <tr>\n",
       "      <th>2</th>\n",
       "      <td>2015 Porsche Macan SUV S 4dr SUV AWD (3.0L 6cy...</td>\n",
       "      <td>Pretty and comfy</td>\n",
       "      <td>Great looking vehicle with the most comfortab...</td>\n",
       "      <td>4</td>\n",
       "      <td>2015 Porsche Macan SUV</td>\n",
       "    </tr>\n",
       "    <tr>\n",
       "      <th>3</th>\n",
       "      <td>2015 Porsche Macan SUV S 4dr SUV AWD (3.0L 6cy...</td>\n",
       "      <td>Once you've gone Porsche, it's hard to go back</td>\n",
       "      <td>Crossover that drives like a Porsche- I outgr...</td>\n",
       "      <td>5</td>\n",
       "      <td>2015 Porsche Macan SUV</td>\n",
       "    </tr>\n",
       "    <tr>\n",
       "      <th>4</th>\n",
       "      <td>2015 Porsche Macan SUV Turbo 4dr SUV AWD (3.6L...</td>\n",
       "      <td>The 911 SUV</td>\n",
       "      <td>Fun to drive SUV:very close to handling like ...</td>\n",
       "      <td>5</td>\n",
       "      <td>2015 Porsche Macan SUV</td>\n",
       "    </tr>\n",
       "  </tbody>\n",
       "</table>\n",
       "</div>"
      ],
      "text/plain": [
       "                                       Vehicle_Title  \\\n",
       "0  2015 Porsche Macan SUV Turbo 4dr SUV AWD (3.6L...   \n",
       "1  2015 Porsche Macan SUV S 4dr SUV AWD (3.0L 6cy...   \n",
       "2  2015 Porsche Macan SUV S 4dr SUV AWD (3.0L 6cy...   \n",
       "3  2015 Porsche Macan SUV S 4dr SUV AWD (3.0L 6cy...   \n",
       "4  2015 Porsche Macan SUV Turbo 4dr SUV AWD (3.6L...   \n",
       "\n",
       "                                     Review_Title  \\\n",
       "0                        Porsche Macan is a Beast   \n",
       "1                               Outstanding ride!   \n",
       "2                                Pretty and comfy   \n",
       "3  Once you've gone Porsche, it's hard to go back   \n",
       "4                                     The 911 SUV   \n",
       "\n",
       "                                              Review  Rating  \\\n",
       "0   I owned a Porsche Cayenne for two years and e...       5   \n",
       "1   Love my 2015 Porsche Macan S SUV, but please ...       5   \n",
       "2   Great looking vehicle with the most comfortab...       4   \n",
       "3   Crossover that drives like a Porsche- I outgr...       5   \n",
       "4   Fun to drive SUV:very close to handling like ...       5   \n",
       "\n",
       "             Vehicle_Name  \n",
       "0  2015 Porsche Macan SUV  \n",
       "1  2015 Porsche Macan SUV  \n",
       "2  2015 Porsche Macan SUV  \n",
       "3  2015 Porsche Macan SUV  \n",
       "4  2015 Porsche Macan SUV  "
      ]
     },
     "execution_count": 47,
     "metadata": {},
     "output_type": "execute_result"
    }
   ],
   "source": [
    "df.head()"
   ]
  },
  {
   "cell_type": "code",
   "execution_count": 52,
   "metadata": {},
   "outputs": [
    {
     "data": {
      "text/plain": [
       "2006 Porsche Cayenne SUV            4\n",
       "2005 Porsche Cayenne SUV            3\n",
       "2017 Porsche Macan SUV              3\n",
       "2014 Porsche 911 Coupe              2\n",
       "2016 Porsche Cayenne SUV            2\n",
       "2016 Porsche Cayman Coupe           2\n",
       "2004 Porsche Cayenne SUV            2\n",
       "2009 Porsche 911 Convertible        1\n",
       "2008 Porsche Cayman Coupe           1\n",
       "2011 Porsche Panamera Sedan         1\n",
       "2006 Porsche Boxster Convertible    1\n",
       "2002 Porsche Boxster Convertible    1\n",
       "2016 Porsche Cayenne Hybrid         1\n",
       "2010 Porsche Panamera Sedan         1\n",
       "2005 Porsche Carrera GT             1\n",
       "2003 Porsche 911 Coupe              1\n",
       "2014 Porsche Panamera Sedan         1\n",
       "2008 Porsche 911 GT2                1\n",
       "2003 Porsche Cayenne SUV            1\n",
       "2012 Porsche Panamera Sedan         1\n",
       "2015 Porsche 911 Coupe              1\n",
       "2018 Porsche Panamera Sedan         1\n",
       "2017 Porsche Cayenne SUV            1\n",
       "2007 Porsche 911 Convertible        1\n",
       "Name: Vehicle_Name, dtype: int64"
      ]
     },
     "execution_count": 52,
     "metadata": {},
     "output_type": "execute_result"
    }
   ],
   "source": [
    "df[(df.Rating==1)|(df.Rating==2)]['Vehicle_Name'].value_counts()"
   ]
  },
  {
   "cell_type": "code",
   "execution_count": null,
   "metadata": {},
   "outputs": [],
   "source": []
  }
 ],
 "metadata": {
  "interpreter": {
   "hash": "93258ec20056fb7f2fece531ca233fea468d9481978e721867782f41a62c93cc"
  },
  "kernelspec": {
   "display_name": "Python 3.9.1 ('base')",
   "language": "python",
   "name": "python3"
  },
  "language_info": {
   "codemirror_mode": {
    "name": "ipython",
    "version": 3
   },
   "file_extension": ".py",
   "mimetype": "text/x-python",
   "name": "python",
   "nbconvert_exporter": "python",
   "pygments_lexer": "ipython3",
   "version": "3.9.1"
  },
  "orig_nbformat": 4
 },
 "nbformat": 4,
 "nbformat_minor": 2
}
